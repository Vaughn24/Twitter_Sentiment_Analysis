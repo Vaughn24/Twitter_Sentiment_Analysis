{
 "cells": [
  {
   "cell_type": "code",
   "execution_count": 1,
   "id": "74172dce",
   "metadata": {},
   "outputs": [],
   "source": [
    "import tweepy\n",
    "from textblob import TextBlob\n",
    "from wordcloud import WordCloud\n",
    "import pandas as pd\n",
    "import numpy as np\n",
    "import re\n",
    "import matplotlib.pyplot as plt\n",
    "import warnings\n",
    "warnings.filterwarnings(\"ignore\")\n",
    "plt.style.use('fivethirtyeight') # Style Sheet"
   ]
  },
  {
   "cell_type": "code",
   "execution_count": 2,
   "id": "d46d150b",
   "metadata": {},
   "outputs": [],
   "source": [
    "log = pd.read_csv('./Login.csv')"
   ]
  },
  {
   "cell_type": "code",
   "execution_count": 3,
   "id": "44962796",
   "metadata": {},
   "outputs": [],
   "source": [
    "# Twitter API credentials\n",
    "\n",
    "consumerKey = log['key'][2]\n",
    "consumerSecret = log['key'][3]\n",
    "accessToken = log['key'][0]\n",
    "accessTokenSecret = log['key'][1]"
   ]
  },
  {
   "cell_type": "code",
   "execution_count": 4,
   "id": "9ab5daf7",
   "metadata": {},
   "outputs": [],
   "source": [
    "# Create the authentication object\n",
    "authenticate = tweepy.OAuthHandler(consumerKey,consumerSecret)\n",
    "\n",
    "# Set the access token and access token secret\n",
    "authenticate.set_access_token(accessToken, accessTokenSecret)\n",
    "\n",
    "# Create the API object while passing in the auth information\n",
    "api = tweepy.API(authenticate, wait_on_rate_limit = True)"
   ]
  },
  {
   "cell_type": "code",
   "execution_count": 5,
   "id": "881f7c41",
   "metadata": {},
   "outputs": [],
   "source": [
    "#places = api.geo_search(query=\"PHI\",granularity=\"country\")\n",
    "place_id = 'fb151ef38fa2ac0d'\n",
    "#tweets = api.search(q=\"place:%s\" % place_id)"
   ]
  },
  {
   "cell_type": "code",
   "execution_count": 6,
   "id": "cd3f7ea7",
   "metadata": {},
   "outputs": [
    {
     "name": "stdout",
     "output_type": "stream",
     "text": [
      "Show the 5 recent tweets: \n",
      "\n",
      "1) kung kailan oras ng online class tsaka nagloloko internet\n",
      "\n",
      "2) Ang hirap 😓 hind ko kaya mag online class ng 3am to 5:30am huhu\n",
      "\n",
      "3) online class with vmin💜 https://t.co/lEPrmxVpRa\n",
      "\n",
      "4) @TV5manila rodalyn aldama\n",
      "nueva ecija\n",
      "09557725381\n",
      "#lolflashbackfriday\n",
      "\n",
      "sna po 1 ako sa mapili nyo n matulungan isa po akong solo parent at may 3anak.pang online class po sana pra sa pg aaral ng aking mga anakat konting dagdag phunan.Di po kumpleto ang aming tanghalian pg wla ang tropang lol\n",
      "\n",
      "5) @gmawowowin #tutokparamanalo\n",
      "kuya will sana po isa ako sa matawagan nyo.. may 3anak po ako at walang asawa.. sana po kuya mapili nyo ako pang online class ng mga bata. malaking tulong po ito para sa akin.. salamat kuya will\n",
      "\n"
     ]
    }
   ],
   "source": [
    "# Extract tweets from the twitter user\n",
    "posts = api.search_tweets(q=\"online class\"+\" place:{}\".format(place_id),count=200,tweet_mode=\"extended\")\n",
    "\n",
    "\n",
    "\n",
    "# Print the last 5 tweets from the account\n",
    "\n",
    "print(\"Show the 5 recent tweets: \\n\")\n",
    "i=1\n",
    "for tweet in posts[0:5]:\n",
    "    print(str(i) + ') '+tweet.full_text + '\\n')\n",
    "    i+=1"
   ]
  },
  {
   "cell_type": "code",
   "execution_count": 7,
   "id": "85fc39a7",
   "metadata": {},
   "outputs": [
    {
     "data": {
      "text/html": [
       "<div>\n",
       "<style scoped>\n",
       "    .dataframe tbody tr th:only-of-type {\n",
       "        vertical-align: middle;\n",
       "    }\n",
       "\n",
       "    .dataframe tbody tr th {\n",
       "        vertical-align: top;\n",
       "    }\n",
       "\n",
       "    .dataframe thead th {\n",
       "        text-align: right;\n",
       "    }\n",
       "</style>\n",
       "<table border=\"1\" class=\"dataframe\">\n",
       "  <thead>\n",
       "    <tr style=\"text-align: right;\">\n",
       "      <th></th>\n",
       "      <th>Tweets</th>\n",
       "    </tr>\n",
       "  </thead>\n",
       "  <tbody>\n",
       "    <tr>\n",
       "      <th>0</th>\n",
       "      <td>kung kailan oras ng online class tsaka naglolo...</td>\n",
       "    </tr>\n",
       "    <tr>\n",
       "      <th>1</th>\n",
       "      <td>Ang hirap 😓 hind ko kaya mag online class ng 3...</td>\n",
       "    </tr>\n",
       "    <tr>\n",
       "      <th>2</th>\n",
       "      <td>online class with vmin💜 https://t.co/lEPrmxVpRa</td>\n",
       "    </tr>\n",
       "    <tr>\n",
       "      <th>3</th>\n",
       "      <td>@TV5manila rodalyn aldama\\nnueva ecija\\n095577...</td>\n",
       "    </tr>\n",
       "    <tr>\n",
       "      <th>4</th>\n",
       "      <td>@gmawowowin #tutokparamanalo\\nkuya will sana p...</td>\n",
       "    </tr>\n",
       "    <tr>\n",
       "      <th>...</th>\n",
       "      <td>...</td>\n",
       "    </tr>\n",
       "    <tr>\n",
       "      <th>78</th>\n",
       "      <td>@_hansjob_ Tama very sturdy. 10/10 would recom...</td>\n",
       "    </tr>\n",
       "    <tr>\n",
       "      <th>79</th>\n",
       "      <td>Curious lang po ako. Bakit nung F2F classes eh...</td>\n",
       "    </tr>\n",
       "    <tr>\n",
       "      <th>80</th>\n",
       "      <td>#GaanoKaKamalas Ang active ko magparticipate s...</td>\n",
       "    </tr>\n",
       "    <tr>\n",
       "      <th>81</th>\n",
       "      <td>Napaka agang online class 🤦\\nGantong oras natu...</td>\n",
       "    </tr>\n",
       "    <tr>\n",
       "      <th>82</th>\n",
       "      <td>di man ako makapag phone upgrade this month ih...</td>\n",
       "    </tr>\n",
       "  </tbody>\n",
       "</table>\n",
       "<p>83 rows × 1 columns</p>\n",
       "</div>"
      ],
      "text/plain": [
       "                                               Tweets\n",
       "0   kung kailan oras ng online class tsaka naglolo...\n",
       "1   Ang hirap 😓 hind ko kaya mag online class ng 3...\n",
       "2     online class with vmin💜 https://t.co/lEPrmxVpRa\n",
       "3   @TV5manila rodalyn aldama\\nnueva ecija\\n095577...\n",
       "4   @gmawowowin #tutokparamanalo\\nkuya will sana p...\n",
       "..                                                ...\n",
       "78  @_hansjob_ Tama very sturdy. 10/10 would recom...\n",
       "79  Curious lang po ako. Bakit nung F2F classes eh...\n",
       "80  #GaanoKaKamalas Ang active ko magparticipate s...\n",
       "81  Napaka agang online class 🤦\\nGantong oras natu...\n",
       "82  di man ako makapag phone upgrade this month ih...\n",
       "\n",
       "[83 rows x 1 columns]"
      ]
     },
     "execution_count": 7,
     "metadata": {},
     "output_type": "execute_result"
    }
   ],
   "source": [
    "# Create a DataFrame with a column called Tweets\n",
    "\n",
    "df = pd.DataFrame([tweet.full_text for tweet in posts] , columns=['Tweets'])\n",
    "\n",
    "# Show the first 5 rows of data\n",
    "df"
   ]
  },
  {
   "cell_type": "code",
   "execution_count": 8,
   "id": "22db8915",
   "metadata": {},
   "outputs": [],
   "source": [
    "#Clean the tweets\n",
    "def cleanTxt(text):\n",
    "    text = re.sub(r'@[A-Za-z0-9]+', '', text) #Removed @mentions\n",
    "    text = re.sub(r'#', '', text) #Removing the '#' symbol\n",
    "    text = re.sub(r'RT[\\s]+', '', text) # Removing RT\n",
    "    text = re.sub(r'https?:\\/\\/\\S+', '', text) # Removing hyperlink\n",
    "    \n",
    "    return text\n",
    "\n",
    "# Cleaning the text\n",
    "df['Tweets']=df['Tweets'].apply(cleanTxt)\n",
    "\n"
   ]
  },
  {
   "cell_type": "code",
   "execution_count": 9,
   "id": "dba2511f",
   "metadata": {},
   "outputs": [
    {
     "data": {
      "text/html": [
       "<div>\n",
       "<style scoped>\n",
       "    .dataframe tbody tr th:only-of-type {\n",
       "        vertical-align: middle;\n",
       "    }\n",
       "\n",
       "    .dataframe tbody tr th {\n",
       "        vertical-align: top;\n",
       "    }\n",
       "\n",
       "    .dataframe thead th {\n",
       "        text-align: right;\n",
       "    }\n",
       "</style>\n",
       "<table border=\"1\" class=\"dataframe\">\n",
       "  <thead>\n",
       "    <tr style=\"text-align: right;\">\n",
       "      <th></th>\n",
       "      <th>Tweets</th>\n",
       "    </tr>\n",
       "  </thead>\n",
       "  <tbody>\n",
       "    <tr>\n",
       "      <th>0</th>\n",
       "      <td>kung kailan oras ng online class tsaka naglolo...</td>\n",
       "    </tr>\n",
       "    <tr>\n",
       "      <th>1</th>\n",
       "      <td>Ang hirap 😓 hind ko kaya mag online class ng 3...</td>\n",
       "    </tr>\n",
       "    <tr>\n",
       "      <th>2</th>\n",
       "      <td>online class with vmin💜</td>\n",
       "    </tr>\n",
       "    <tr>\n",
       "      <th>3</th>\n",
       "      <td>rodalyn aldama\\nnueva ecija\\n09557725381\\nlol...</td>\n",
       "    </tr>\n",
       "    <tr>\n",
       "      <th>4</th>\n",
       "      <td>tutokparamanalo\\nkuya will sana po isa ako sa...</td>\n",
       "    </tr>\n",
       "  </tbody>\n",
       "</table>\n",
       "</div>"
      ],
      "text/plain": [
       "                                              Tweets\n",
       "0  kung kailan oras ng online class tsaka naglolo...\n",
       "1  Ang hirap 😓 hind ko kaya mag online class ng 3...\n",
       "2                           online class with vmin💜 \n",
       "3   rodalyn aldama\\nnueva ecija\\n09557725381\\nlol...\n",
       "4   tutokparamanalo\\nkuya will sana po isa ako sa..."
      ]
     },
     "execution_count": 9,
     "metadata": {},
     "output_type": "execute_result"
    }
   ],
   "source": [
    "# Show the cleaned text\n",
    "#pd.set_option('display.max_colwidth', None) #change Display option\n",
    "#pd.reset_option('^display.', silent=True) #Resets all option\n",
    "df.head()"
   ]
  },
  {
   "cell_type": "code",
   "execution_count": 10,
   "id": "b97d8670",
   "metadata": {},
   "outputs": [
    {
     "name": "stdout",
     "output_type": "stream",
     "text": [
      " quick brown jumps over lazy.\n"
     ]
    }
   ],
   "source": [
    "\n",
    "text = \"The quick brown fox jumps over the lazy dog.\"\n",
    "# remove words between 1 and 3\n",
    "shortword = re.compile(r'\\W*\\b\\w{1,3}\\b')\n",
    "print(shortword.sub('', text))"
   ]
  },
  {
   "cell_type": "code",
   "execution_count": 11,
   "id": "1bf600c2",
   "metadata": {},
   "outputs": [
    {
     "data": {
      "image/png": "[encoded data removed]",
      "text/plain": [
       "<Figure size 432x288 with 1 Axes>"
      ]
     },
     "metadata": {},
     "output_type": "display_data"
    }
   ],
   "source": [
    "# Plot Word Cloud\n",
    "allWords = ' '.join([twts for twts in df['Tweets']])\n",
    "allWords = allWords.lower()\n",
    "\n",
    "#Remove 'online Class'\n",
    "removeWords = \"\"\"online class yung para pero naman araw \n",
    "                hindi tapos kasi talaga shopeeph1010 shopeephbigatenfestival\n",
    "                pang\"\"\"\n",
    "for x in allWords.split():\n",
    "    for i in removeWords.split():\n",
    "        if x == i:\n",
    "            patt = re.compile('(\\s*){}(\\s*)'.format(i))\n",
    "            allWords=patt.sub('\\\\1 \\\\2', allWords)\n",
    "            \n",
    "#patt = re.compile('(\\s*)online class(\\s*)')\n",
    "#allWords=patt.sub('\\\\1 \\\\2', allWords)\n",
    "\n",
    "#Restrict 2 letter word\n",
    "shortword = re.compile(r'\\W*\\b\\w{1,3}\\b')\n",
    "allWords = shortword.sub('', allWords)\n",
    "\n",
    "#wordCloud = WordCloud(width = 500, height =300, random_state = 21, max_font_size = 119).generate(allWords)\n",
    "wordCloud = WordCloud(width = 500, height =300, random_state = 21).generate(allWords)\n",
    "\n",
    "plt.imshow(wordCloud, interpolation='bilinear')\n",
    "plt.axis('off')\n",
    "plt.show()"
   ]
  },
  {
   "cell_type": "markdown",
   "id": "c2555b10",
   "metadata": {},
   "source": [
    "# ====================== NAIVE BAYES ======================"
   ]
  },
  {
   "cell_type": "code",
   "execution_count": 12,
   "id": "2b4dd46c",
   "metadata": {},
   "outputs": [],
   "source": [
    "import nltk\n",
    "from nltk.corpus import twitter_samples\n",
    "import numpy as np\n",
    "import pandas as pd"
   ]
  },
  {
   "cell_type": "code",
   "execution_count": 13,
   "id": "19d94177",
   "metadata": {},
   "outputs": [],
   "source": [
    "sentiment_df = pd.read_csv(\"tweet_dataset.csv\")"
   ]
  },
  {
   "cell_type": "code",
   "execution_count": 14,
   "id": "b5716160",
   "metadata": {},
   "outputs": [],
   "source": [
    "# select the set of positive and negative tweets\n",
    "all_positive_tweets = sentiment_df['positive'].tolist()\n",
    "all_negative_tweets = sentiment_df['negative'].tolist()"
   ]
  },
  {
   "cell_type": "code",
   "execution_count": 15,
   "id": "1cc7e5cc",
   "metadata": {},
   "outputs": [
    {
     "name": "stdout",
     "output_type": "stream",
     "text": [
      "Number of positive tweets:  5041\n",
      "Number of negative tweets:  5041\n",
      "\n",
      "The type of all_positive_tweets is:  <class 'list'>\n",
      "The type of a tweet entry is:  <class 'str'>\n"
     ]
    }
   ],
   "source": [
    "print('Number of positive tweets: ', len(all_positive_tweets))\n",
    "print('Number of negative tweets: ', len(all_negative_tweets))\n",
    "\n",
    "print('\\nThe type of all_positive_tweets is: ', type(all_positive_tweets))\n",
    "print('The type of a tweet entry is: ', type(all_negative_tweets[0]))"
   ]
  },
  {
   "cell_type": "code",
   "execution_count": 16,
   "id": "96f66f68",
   "metadata": {},
   "outputs": [
    {
     "name": "stdout",
     "output_type": "stream",
     "text": [
      "Positive Tweet Example:\n",
      "#GaanoKaKamalas Ang active ko magparticipate sa online class eh maling meeting room naman pala yung napasukan ko. Naperfect ko pa yung recitation at quiz. #TheMorningRush\n",
      "\n",
      "Negative Tweet Example:\n",
      "@PLDT_Cares Good morning. I have again an LOS issue. I did all the necessary troubleshooting but to no avail. Sent you a DM. Location: Mambog Uno, Bacoor, Cavite Please help. 2 of us are working from home and we have 2 students doing online class Thank you.\n"
     ]
    }
   ],
   "source": [
    "print(\"Positive Tweet Example:\")\n",
    "print(all_positive_tweets[0])\n",
    "\n",
    "print(\"\\nNegative Tweet Example:\")\n",
    "print(all_negative_tweets[0])"
   ]
  },
  {
   "cell_type": "markdown",
   "id": "187b1f9a",
   "metadata": {},
   "source": [
    "# Preprocess Tweets"
   ]
  },
  {
   "cell_type": "code",
   "execution_count": 17,
   "id": "65d9e536",
   "metadata": {},
   "outputs": [],
   "source": [
    "import re                                  # library for regular expression operations\n",
    "import string                              # for string operations\n",
    "\n",
    "from nltk.corpus import stopwords          # module for stop words that come with NLTK\n",
    "from nltk.stem import PorterStemmer        # module for stemming\n",
    "from nltk.tokenize import TweetTokenizer   # module for tokenizing strings"
   ]
  },
  {
   "cell_type": "markdown",
   "id": "9280aff7",
   "metadata": {},
   "source": [
    "### Remove hyperlinks, Twitter marks and styles"
   ]
  },
  {
   "cell_type": "markdown",
   "id": "183382eb",
   "metadata": {},
   "source": [
    "We do not want to use every word in a tweet because many tweets have hashtags, retweet marks, and hyperlinks. We will use regular expressions to remove them from a tweet."
   ]
  },
  {
   "cell_type": "code",
   "execution_count": 18,
   "id": "d8214ff6",
   "metadata": {},
   "outputs": [],
   "source": [
    "def remove_hyperlinks_marks_styles(tweet):\n",
    "    \n",
    "    # remove old style retweet text \"RT\"\n",
    "    new_tweet = re.sub(r'^RT[\\s]+', '', tweet)\n",
    "\n",
    "    # remove hyperlinks\n",
    "    new_tweet = re.sub(r'https?:\\/\\/.*[\\r\\n]*', '', new_tweet)\n",
    "\n",
    "    # remove hashtags\n",
    "    # only removing the hash # sign from the word\n",
    "    new_tweet = re.sub(r'#', '', new_tweet)\n",
    "    \n",
    "    return new_tweet"
   ]
  },
  {
   "cell_type": "markdown",
   "id": "1b38f931",
   "metadata": {},
   "source": [
    "### Tokenize the string"
   ]
  },
  {
   "cell_type": "markdown",
   "id": "e68e040b",
   "metadata": {},
   "source": [
    "To tokenize means to split a string into individual words."
   ]
  },
  {
   "cell_type": "code",
   "execution_count": 19,
   "id": "b8169ca0",
   "metadata": {},
   "outputs": [],
   "source": [
    "# instantiate tokenizer class\n",
    "tokenizer = TweetTokenizer(preserve_case=False, strip_handles=True,\n",
    "                               reduce_len=True)\n",
    "\n",
    "def tokenize_tweet(tweet):\n",
    "    \n",
    "    tweet_tokens = tokenizer.tokenize(tweet)\n",
    "    \n",
    "    return tweet_tokens"
   ]
  },
  {
   "cell_type": "markdown",
   "id": "5d3e4802",
   "metadata": {},
   "source": [
    "### Remove stop works and punctuations"
   ]
  },
  {
   "cell_type": "markdown",
   "id": "f3db79ef",
   "metadata": {},
   "source": [
    "Remove stop words and punctuations. Stop words are words that don't add significant meaning to the text. For example, 'i' and 'me'."
   ]
  },
  {
   "cell_type": "code",
   "execution_count": 20,
   "id": "2708ba5c",
   "metadata": {},
   "outputs": [],
   "source": [
    "#nltk.download('stopwords')\n",
    "\n",
    "#Import the english stop words list from NLTK\n",
    "stopwords_english = stopwords.words('english')\n",
    "\n",
    "punctuations = string.punctuation\n",
    "\n",
    "def remove_stopwords_punctuations(tweet_tokens):\n",
    "    \n",
    "    tweets_clean = []\n",
    "    \n",
    "    for word in tweet_tokens:\n",
    "        if (word not in stopwords_english and word not in punctuations):\n",
    "            tweets_clean.append(word)\n",
    "            \n",
    "    return tweets_clean"
   ]
  },
  {
   "cell_type": "code",
   "execution_count": 21,
   "id": "3ea8accd",
   "metadata": {},
   "outputs": [],
   "source": [
    "stopwords_tagalog = stopwords.words('tagalog')\n",
    "\n",
    "punctuations = string.punctuation\n",
    "\n",
    "def remove_stopwords_punctuations(tweet_tokens):\n",
    "    \n",
    "    tweets_clean = []\n",
    "    \n",
    "    for word in tweet_tokens:\n",
    "        if (word not in stopwords_english and word not in punctuations):\n",
    "            tweets_clean.append(word)\n",
    "            \n",
    "    return tweets_clean"
   ]
  },
  {
   "cell_type": "markdown",
   "id": "71384207",
   "metadata": {},
   "source": [
    "### Stemming"
   ]
  },
  {
   "cell_type": "markdown",
   "id": "d391d6cf",
   "metadata": {},
   "source": [
    "The process of converting a word to its most general form, or stem.\n",
    "\n",
    "learning -> learn\n",
    "\n",
    "learned -> learn\n",
    "\n",
    "learnt -> learn"
   ]
  },
  {
   "cell_type": "code",
   "execution_count": 22,
   "id": "fa6cf980",
   "metadata": {},
   "outputs": [],
   "source": [
    "stemmer = PorterStemmer()\n",
    "\n",
    "def get_stem(tweets_clean):\n",
    "    \n",
    "    tweets_stem = []\n",
    "    \n",
    "    for word in tweets_clean:\n",
    "        stem_word = stemmer.stem(word)\n",
    "        tweets_stem.append(stem_word)\n",
    "        \n",
    "    return tweets_stem"
   ]
  },
  {
   "cell_type": "code",
   "execution_count": 23,
   "id": "14e88fed",
   "metadata": {},
   "outputs": [
    {
     "name": "stdout",
     "output_type": "stream",
     "text": [
      "@BarbieDevotees lyka follow back na :)\n",
      "\n",
      "Removed hyperlinks, Twitter marks and styles:\n",
      "@BarbieDevotees lyka follow back na :)\n",
      "\n",
      "Tokenize the string:\n",
      "['lyka', 'follow', 'back', 'na', ':)']\n",
      "\n",
      "Remove stop words and punctuations:\n",
      "['lyka', 'follow', 'back', 'na', ':)']\n",
      "\n",
      "Get stem of each word:\n",
      "['lyka', 'follow', 'back', 'na', ':)']\n"
     ]
    }
   ],
   "source": [
    "tweet_example = all_positive_tweets[2277]\n",
    "print(tweet_example)\n",
    "\n",
    "processed_tweet = remove_hyperlinks_marks_styles(tweet_example)\n",
    "print(\"\\nRemoved hyperlinks, Twitter marks and styles:\")\n",
    "print(processed_tweet)\n",
    "\n",
    "tweet_tokens = tokenize_tweet(processed_tweet)\n",
    "print(\"\\nTokenize the string:\")\n",
    "print(tweet_tokens)\n",
    "\n",
    "tweets_clean = remove_stopwords_punctuations(tweet_tokens)\n",
    "print(\"\\nRemove stop words and punctuations:\")\n",
    "print(tweets_clean)\n",
    "\n",
    "tweets_stem = get_stem(tweets_clean)\n",
    "print(\"\\nGet stem of each word:\")\n",
    "print(tweets_stem)"
   ]
  },
  {
   "cell_type": "markdown",
   "id": "7a516d6c",
   "metadata": {},
   "source": [
    "### Combine all preprocess techniques"
   ]
  },
  {
   "cell_type": "code",
   "execution_count": 24,
   "id": "d815de8c",
   "metadata": {},
   "outputs": [],
   "source": [
    "def process_tweet(tweet):\n",
    "    \n",
    "    processed_tweet = remove_hyperlinks_marks_styles(tweet)\n",
    "    tweet_tokens = tokenize_tweet(processed_tweet)\n",
    "    tweets_clean = remove_stopwords_punctuations(tweet_tokens)\n",
    "    tweets_stem = get_stem(tweets_clean)\n",
    "    \n",
    "    return tweets_stem"
   ]
  },
  {
   "cell_type": "code",
   "execution_count": 25,
   "id": "8da30459",
   "metadata": {},
   "outputs": [
    {
     "name": "stdout",
     "output_type": "stream",
     "text": [
      "I can't finish my Sanum today! :(\n",
      "#LLAOLLAO #Dessert but too full\n",
      "[\"can't\", 'finish', 'sanum', 'today', ':(', 'llaollao', 'dessert', 'full']\n"
     ]
    }
   ],
   "source": [
    "tweet_example = all_negative_tweets[1000]\n",
    "print(tweet_example)\n",
    "\n",
    "processed_tweet = process_tweet(tweet_example)\n",
    "print(processed_tweet)"
   ]
  },
  {
   "cell_type": "markdown",
   "id": "85e28068",
   "metadata": {},
   "source": [
    "### Split data into two pieces, one for training and one for testing"
   ]
  },
  {
   "cell_type": "code",
   "execution_count": 26,
   "id": "4c6dc987",
   "metadata": {},
   "outputs": [],
   "source": [
    "test_pos = all_positive_tweets[4000:]\n",
    "train_pos = all_positive_tweets[:4000]\n",
    "test_neg = all_negative_tweets[4000:]\n",
    "train_neg = all_negative_tweets[:4000]\n",
    "\n",
    "train_x = train_pos + train_neg\n",
    "test_x = test_pos + test_neg\n",
    "\n",
    "train_y = np.append(np.ones(len(train_pos)), np.zeros(len(train_neg)))\n",
    "test_y = np.append(np.ones(len(test_pos)), np.zeros(len(test_neg)))"
   ]
  },
  {
   "cell_type": "markdown",
   "id": "bc3c9d73",
   "metadata": {},
   "source": [
    "### Create frequency dictionary"
   ]
  },
  {
   "cell_type": "code",
   "execution_count": 27,
   "id": "8694919b",
   "metadata": {},
   "outputs": [],
   "source": [
    "def create_frequency(tweets, ys):\n",
    "    \n",
    "    freq_d = {}\n",
    "\n",
    "    # TODO: Create frequency dictionary\n",
    "    for tweet, y in zip(tweets,ys):\n",
    "        for word in process_tweet(tweet):\n",
    "            \n",
    "            pair = (word, y)\n",
    "            if pair in freq_d:\n",
    "                freq_d[pair] += 1\n",
    "            else:\n",
    "                freq_d[pair] = freq_d.get(pair, 1)\n",
    "    \n",
    "    return freq_d"
   ]
  },
  {
   "cell_type": "code",
   "execution_count": 28,
   "id": "668f2435",
   "metadata": {},
   "outputs": [
    {
     "name": "stdout",
     "output_type": "stream",
     "text": [
      "{('happi', 1): 1, ('trick', 0): 1, ('sad', 0): 1, ('tire', 0): 2}\n"
     ]
    }
   ],
   "source": [
    "# testing function\n",
    "\n",
    "tweets = ['i am happy', 'i am tricked', 'i am sad', 'i am tired', 'i am tired']\n",
    "ys = [1, 0, 0, 0, 0]\n",
    "\n",
    "freq_d = create_frequency(tweets, ys)\n",
    "print(freq_d)"
   ]
  },
  {
   "cell_type": "markdown",
   "id": "e150a6fb",
   "metadata": {},
   "source": [
    "## Train model using Naive Bayes"
   ]
  },
  {
   "cell_type": "code",
   "execution_count": 29,
   "id": "7d025c5a",
   "metadata": {},
   "outputs": [],
   "source": [
    "# build the freqs dictionary\n",
    "\n",
    "freqs = create_frequency(train_x, train_y)"
   ]
  },
  {
   "cell_type": "code",
   "execution_count": 30,
   "id": "6160ec68",
   "metadata": {},
   "outputs": [],
   "source": [
    "def train_naive_bayes(freqs, train_x, train_y):\n",
    "    '''\n",
    "    Input:\n",
    "        freqs: dictionary from (word, label) to how often the word appears\n",
    "        train_x: a list of tweets\n",
    "        train_y: a list of labels correponding to the tweets (0,1)\n",
    "    Output:\n",
    "        logprior: the log prior. (equation 3 above)\n",
    "        loglikelihood: the log likelihood of you Naive bayes equation. (equation 6 above)\n",
    "    '''\n",
    "    \n",
    "    loglikelihood = {}\n",
    "    logprior = 0\n",
    "    \n",
    "    # calculate the number of unique words in vocab\n",
    "    unique_words = set([pair[0] for pair in freqs.keys()])\n",
    "    V = len(unique_words)\n",
    "    \n",
    "    # calculate N_pos and N_neg\n",
    "    N_pos = N_neg = 0\n",
    "    for pair in freqs.keys():\n",
    "        \n",
    "        # TODO: get N_pos and N_get\n",
    "        if pair[1]>0:\n",
    "            N_pos += freqs[(pair)]\n",
    "        else:\n",
    "            N_neg += freqs[(pair)]\n",
    "            \n",
    "            \n",
    "    # TODO: calculate the number of documents (tweets)\n",
    "    D = train_y.shape[0]\n",
    "    \n",
    "    # TODO: calculate D_pos, the number of positive documents (tweets)\n",
    "    D_pos = sum(train_y)\n",
    "    \n",
    "    # TODO: calculate D_neg, the number of negative documents (tweets)\n",
    "    D_neg = D - sum(train_y)\n",
    "    \n",
    "    # TODO: calculate logprior\n",
    "    logprior = np.log(D_pos) - np.log(D_neg)\n",
    "    \n",
    "    # for each unqiue word\n",
    "    for word in unique_words:\n",
    "        \n",
    "        # get the positive and negative frequency of the word\n",
    "        freq_pos = freqs.get((word,1),0)\n",
    "        freq_neg = freqs.get((word,0),0)\n",
    "        \n",
    "        # calculate the probability that word is positive, and negative\n",
    "        p_w_pos = (freq_pos +1) / (N_pos + V)\n",
    "        p_w_neg = (freq_neg +1) / (N_neg + V)\n",
    "        \n",
    "        # calculate the log likelihood of the word\n",
    "        loglikelihood[word] = np.log(p_w_pos / p_w_neg)\n",
    "        \n",
    "    return logprior, loglikelihood"
   ]
  },
  {
   "cell_type": "code",
   "execution_count": 31,
   "id": "c564b15c",
   "metadata": {
    "scrolled": true
   },
   "outputs": [
    {
     "name": "stdout",
     "output_type": "stream",
     "text": [
      "0.0\n",
      "9354\n"
     ]
    }
   ],
   "source": [
    "logprior, loglikelihood = train_naive_bayes(freqs, train_x, train_y)\n",
    "print(logprior)\n",
    "print(len(loglikelihood))"
   ]
  },
  {
   "cell_type": "markdown",
   "id": "d20d12f3",
   "metadata": {},
   "source": [
    "## Predict Tweets!"
   ]
  },
  {
   "cell_type": "code",
   "execution_count": 32,
   "id": "5d690237",
   "metadata": {},
   "outputs": [],
   "source": [
    "# UNQ_C4 (UNIQUE CELL IDENTIFIER, DO NOT EDIT)\n",
    "def naive_bayes_predict(tweet, logprior, loglikelihood):\n",
    "    '''\n",
    "    Input:\n",
    "        tweet: a string\n",
    "        logprior: a number\n",
    "        loglikelihood: a dictionary of words mapping to numbers\n",
    "    Output:\n",
    "        p: the sum of all the logliklihoods of each word in the tweet (if found in the dictionary) + logprior (a number)\n",
    "\n",
    "    '''\n",
    "\n",
    "    # TODO: process the tweet to get a list of words\n",
    "    word_l = process_tweet(tweet)\n",
    "\n",
    "    # TODO: initialize probability to zero\n",
    "    p = 0\n",
    "\n",
    "    # TODO: add the logprior\n",
    "    p += logprior\n",
    "\n",
    "    for word in word_l:\n",
    "\n",
    "        # TODO: get log likelihood of each keyword\n",
    "        if word in loglikelihood:\n",
    "            p+= loglikelihood[word]\n",
    "\n",
    "    return p"
   ]
  },
  {
   "cell_type": "code",
   "execution_count": 33,
   "id": "90186be0",
   "metadata": {},
   "outputs": [],
   "source": [
    "predicted_tweets_list = []\n",
    "for tweet in df['Tweets']:\n",
    "    p = naive_bayes_predict(tweet, logprior, loglikelihood)\n",
    "    #print(f'{tweet} -> {p:.2f}')\n",
    "    predicted_tweets_list.append(round(p,2))\n"
   ]
  },
  {
   "cell_type": "code",
   "execution_count": 34,
   "id": "0ed1325e",
   "metadata": {},
   "outputs": [
    {
     "data": {
      "text/html": [
       "<div>\n",
       "<style scoped>\n",
       "    .dataframe tbody tr th:only-of-type {\n",
       "        vertical-align: middle;\n",
       "    }\n",
       "\n",
       "    .dataframe tbody tr th {\n",
       "        vertical-align: top;\n",
       "    }\n",
       "\n",
       "    .dataframe thead th {\n",
       "        text-align: right;\n",
       "    }\n",
       "</style>\n",
       "<table border=\"1\" class=\"dataframe\">\n",
       "  <thead>\n",
       "    <tr style=\"text-align: right;\">\n",
       "      <th></th>\n",
       "      <th>Tweets</th>\n",
       "      <th>Polarity</th>\n",
       "    </tr>\n",
       "  </thead>\n",
       "  <tbody>\n",
       "    <tr>\n",
       "      <th>0</th>\n",
       "      <td>kung kailan oras ng online class tsaka naglolo...</td>\n",
       "      <td>-4.50</td>\n",
       "    </tr>\n",
       "    <tr>\n",
       "      <th>1</th>\n",
       "      <td>Ang hirap 😓 hind ko kaya mag online class ng 3...</td>\n",
       "      <td>-12.97</td>\n",
       "    </tr>\n",
       "    <tr>\n",
       "      <th>2</th>\n",
       "      <td>online class with vmin💜</td>\n",
       "      <td>-1.20</td>\n",
       "    </tr>\n",
       "    <tr>\n",
       "      <th>3</th>\n",
       "      <td>rodalyn aldama\\nnueva ecija\\n09557725381\\nlol...</td>\n",
       "      <td>-7.54</td>\n",
       "    </tr>\n",
       "    <tr>\n",
       "      <th>4</th>\n",
       "      <td>tutokparamanalo\\nkuya will sana po isa ako sa...</td>\n",
       "      <td>-5.25</td>\n",
       "    </tr>\n",
       "    <tr>\n",
       "      <th>...</th>\n",
       "      <td>...</td>\n",
       "      <td>...</td>\n",
       "    </tr>\n",
       "    <tr>\n",
       "      <th>78</th>\n",
       "      <td>@_hansjob_ Tama very sturdy. 10/10 would recom...</td>\n",
       "      <td>1.84</td>\n",
       "    </tr>\n",
       "    <tr>\n",
       "      <th>79</th>\n",
       "      <td>Curious lang po ako. Bakit nung F2F classes eh...</td>\n",
       "      <td>-18.05</td>\n",
       "    </tr>\n",
       "    <tr>\n",
       "      <th>80</th>\n",
       "      <td>GaanoKaKamalas Ang active ko magparticipate sa...</td>\n",
       "      <td>-6.63</td>\n",
       "    </tr>\n",
       "    <tr>\n",
       "      <th>81</th>\n",
       "      <td>Napaka agang online class 🤦\\nGantong oras natu...</td>\n",
       "      <td>-6.35</td>\n",
       "    </tr>\n",
       "    <tr>\n",
       "      <th>82</th>\n",
       "      <td>di man ako makapag phone upgrade this month ih...</td>\n",
       "      <td>-6.25</td>\n",
       "    </tr>\n",
       "  </tbody>\n",
       "</table>\n",
       "<p>83 rows × 2 columns</p>\n",
       "</div>"
      ],
      "text/plain": [
       "                                               Tweets  Polarity\n",
       "0   kung kailan oras ng online class tsaka naglolo...     -4.50\n",
       "1   Ang hirap 😓 hind ko kaya mag online class ng 3...    -12.97\n",
       "2                            online class with vmin💜      -1.20\n",
       "3    rodalyn aldama\\nnueva ecija\\n09557725381\\nlol...     -7.54\n",
       "4    tutokparamanalo\\nkuya will sana po isa ako sa...     -5.25\n",
       "..                                                ...       ...\n",
       "78  @_hansjob_ Tama very sturdy. 10/10 would recom...      1.84\n",
       "79  Curious lang po ako. Bakit nung F2F classes eh...    -18.05\n",
       "80  GaanoKaKamalas Ang active ko magparticipate sa...     -6.63\n",
       "81  Napaka agang online class 🤦\\nGantong oras natu...     -6.35\n",
       "82  di man ako makapag phone upgrade this month ih...     -6.25\n",
       "\n",
       "[83 rows x 2 columns]"
      ]
     },
     "execution_count": 34,
     "metadata": {},
     "output_type": "execute_result"
    }
   ],
   "source": [
    "df['Polarity'] = predicted_tweets_list\n",
    "df"
   ]
  },
  {
   "cell_type": "markdown",
   "id": "5d1c9592",
   "metadata": {},
   "source": [
    "# ============================================================"
   ]
  },
  {
   "cell_type": "code",
   "execution_count": 35,
   "id": "c4b1113e",
   "metadata": {},
   "outputs": [
    {
     "data": {
      "text/html": [
       "<div>\n",
       "<style scoped>\n",
       "    .dataframe tbody tr th:only-of-type {\n",
       "        vertical-align: middle;\n",
       "    }\n",
       "\n",
       "    .dataframe tbody tr th {\n",
       "        vertical-align: top;\n",
       "    }\n",
       "\n",
       "    .dataframe thead th {\n",
       "        text-align: right;\n",
       "    }\n",
       "</style>\n",
       "<table border=\"1\" class=\"dataframe\">\n",
       "  <thead>\n",
       "    <tr style=\"text-align: right;\">\n",
       "      <th></th>\n",
       "      <th>Tweets</th>\n",
       "      <th>Polarity</th>\n",
       "      <th>Subjectivity</th>\n",
       "    </tr>\n",
       "  </thead>\n",
       "  <tbody>\n",
       "    <tr>\n",
       "      <th>0</th>\n",
       "      <td>kung kailan oras ng online class tsaka naglolo...</td>\n",
       "      <td>-4.50</td>\n",
       "      <td>0.0</td>\n",
       "    </tr>\n",
       "    <tr>\n",
       "      <th>1</th>\n",
       "      <td>Ang hirap 😓 hind ko kaya mag online class ng 3...</td>\n",
       "      <td>-12.97</td>\n",
       "      <td>0.0</td>\n",
       "    </tr>\n",
       "    <tr>\n",
       "      <th>2</th>\n",
       "      <td>online class with vmin💜</td>\n",
       "      <td>-1.20</td>\n",
       "      <td>0.0</td>\n",
       "    </tr>\n",
       "    <tr>\n",
       "      <th>3</th>\n",
       "      <td>rodalyn aldama\\nnueva ecija\\n09557725381\\nlol...</td>\n",
       "      <td>-7.54</td>\n",
       "      <td>0.7</td>\n",
       "    </tr>\n",
       "    <tr>\n",
       "      <th>4</th>\n",
       "      <td>tutokparamanalo\\nkuya will sana po isa ako sa...</td>\n",
       "      <td>-5.25</td>\n",
       "      <td>0.0</td>\n",
       "    </tr>\n",
       "    <tr>\n",
       "      <th>...</th>\n",
       "      <td>...</td>\n",
       "      <td>...</td>\n",
       "      <td>...</td>\n",
       "    </tr>\n",
       "    <tr>\n",
       "      <th>78</th>\n",
       "      <td>@_hansjob_ Tama very sturdy. 10/10 would recom...</td>\n",
       "      <td>1.84</td>\n",
       "      <td>0.3</td>\n",
       "    </tr>\n",
       "    <tr>\n",
       "      <th>79</th>\n",
       "      <td>Curious lang po ako. Bakit nung F2F classes eh...</td>\n",
       "      <td>-18.05</td>\n",
       "      <td>1.0</td>\n",
       "    </tr>\n",
       "    <tr>\n",
       "      <th>80</th>\n",
       "      <td>GaanoKaKamalas Ang active ko magparticipate sa...</td>\n",
       "      <td>-6.63</td>\n",
       "      <td>0.6</td>\n",
       "    </tr>\n",
       "    <tr>\n",
       "      <th>81</th>\n",
       "      <td>Napaka agang online class 🤦\\nGantong oras natu...</td>\n",
       "      <td>-6.35</td>\n",
       "      <td>0.0</td>\n",
       "    </tr>\n",
       "    <tr>\n",
       "      <th>82</th>\n",
       "      <td>di man ako makapag phone upgrade this month ih...</td>\n",
       "      <td>-6.25</td>\n",
       "      <td>0.0</td>\n",
       "    </tr>\n",
       "  </tbody>\n",
       "</table>\n",
       "<p>83 rows × 3 columns</p>\n",
       "</div>"
      ],
      "text/plain": [
       "                                               Tweets  Polarity  Subjectivity\n",
       "0   kung kailan oras ng online class tsaka naglolo...     -4.50           0.0\n",
       "1   Ang hirap 😓 hind ko kaya mag online class ng 3...    -12.97           0.0\n",
       "2                            online class with vmin💜      -1.20           0.0\n",
       "3    rodalyn aldama\\nnueva ecija\\n09557725381\\nlol...     -7.54           0.7\n",
       "4    tutokparamanalo\\nkuya will sana po isa ako sa...     -5.25           0.0\n",
       "..                                                ...       ...           ...\n",
       "78  @_hansjob_ Tama very sturdy. 10/10 would recom...      1.84           0.3\n",
       "79  Curious lang po ako. Bakit nung F2F classes eh...    -18.05           1.0\n",
       "80  GaanoKaKamalas Ang active ko magparticipate sa...     -6.63           0.6\n",
       "81  Napaka agang online class 🤦\\nGantong oras natu...     -6.35           0.0\n",
       "82  di man ako makapag phone upgrade this month ih...     -6.25           0.0\n",
       "\n",
       "[83 rows x 3 columns]"
      ]
     },
     "execution_count": 35,
     "metadata": {},
     "output_type": "execute_result"
    }
   ],
   "source": [
    "# Create function to get the subjectivity\n",
    "\n",
    "def getSubjectivity(text):\n",
    "    return round((TextBlob(text).sentiment.subjectivity),3)\n",
    "\n",
    "# Create a function to get the polarity\n",
    "def getPolarity(text):\n",
    "    return round((TextBlob(text).sentiment.polarity),3)\n",
    "\n",
    "# Create two new columns\n",
    "df['Subjectivity'] = df['Tweets'].apply(getSubjectivity)\n",
    "#df['Polarity'] = df['Tweets'].apply(getPolarity)\n",
    "\n",
    "\n",
    "df"
   ]
  },
  {
   "cell_type": "code",
   "execution_count": 36,
   "id": "0c916595",
   "metadata": {},
   "outputs": [],
   "source": [
    "# Create a function to compute the negative, neutral and positive analysis\n",
    "def getAnalysis(score):\n",
    "    if score < 0:\n",
    "        return 'Negative'\n",
    "    elif score == 0:\n",
    "        return 'Neutral'\n",
    "    else:\n",
    "        return 'Positive'\n",
    "    \n",
    "df['Analysis'] = df['Polarity'].apply(getAnalysis)\n"
   ]
  },
  {
   "cell_type": "code",
   "execution_count": 38,
   "id": "551b91d7",
   "metadata": {},
   "outputs": [],
   "source": [
    "red_tweets = ['rodalyn aldama','tutokparamanalo','lolflashbackfriday','Official Lightstick Pen']\n",
    "sentences = []\n",
    "tweets_to_delete = []\n",
    "tweets_index = []\n",
    "\n",
    "for words in df['Tweets']:\n",
    "    sentences.append(words)\n",
    "\n",
    "for i in red_tweets:\n",
    "    for x in range(len(sentences)):\n",
    "        if i in sentences[x]:\n",
    "            tweets_to_delete.append(sentences[x])\n",
    "\n",
    "for j in tweets_to_delete:\n",
    "    for n in range(df['Tweets'].count()):\n",
    "        if j == df['Tweets'][n]:\n",
    "            #df_test = df_test.drop(n)\n",
    "            tweets_index.append(n)\n",
    "tweets_index_final = []\n",
    "[tweets_index_final.append(u) for u in tweets_index if u not in tweets_index_final]\n",
    "for c in tweets_index_final:\n",
    "    df = df.drop(c)\n",
    "\n",
    "df = df.reset_index()"
   ]
  },
  {
   "cell_type": "code",
   "execution_count": 37,
   "id": "f64b7699",
   "metadata": {
    "scrolled": true
   },
   "outputs": [
    {
     "name": "stdout",
     "output_type": "stream",
     "text": [
      "1)Dexter’s online class. 😅\n",
      "puglove pugsofinstagram puglife @ Iligan City \n",
      "\n",
      "2)Tungod aning online class maapil tas DL hahaha\n",
      "\n",
      "3)I am in Online class and scroll through Twitter and I found out that I got blocked by that SIOPAO \n",
      "\n",
      "🤣🤣🤣🤣🤣🤣 \n",
      "\n",
      "4)Power dependent 😅… online class yarn?! 🤣 \n",
      "\n",
      "5)Masking sige pamo ingon maot mag modular or online class kay way matun an tapos boring daw haha. naa rajud na studyante guys.\n",
      "\n",
      "6)online class ft. food serye, chsr. \n",
      "\n",
      "7)Next week man online class si ya tamen si kaito 😆\n",
      "\n",
      "8)Saving some pic nga poydi i-background sa Online class hahaha bahala mo class haha\n",
      "HometownChaChaChaEp16\n",
      "\n",
      "9)Online class is waving nanaman.\n",
      "\n",
      "10)Online class in a nutshell:\n",
      "Complying reqs &gt; Quality learning\n",
      "🙂\n",
      "\n",
      "11)Na realize man diay nako nga di man diay kay mama gikan laptop HAHAHAHAHAH so pwede nako siya ipahiram kay asherah pang online class HAHAHHAHAA\n",
      "\n",
      "12)Online class is real ❤️\n",
      "Iloveyou ate dannah louise baquil 😍😘 \n",
      "\n",
      "13)Perks of an Online Class 🤣 @ Catbalogan, Samar \n",
      "\n",
      "14)shet, It's a good thing na online class coz' I feel like throwing up tequila, ugh  🤮 morning.\n",
      "\n",
      "15)Grabe yung nilalagnat nako pero need pa din mag work at syempre need din ang online class. hehe laban lang always , buti nalang galing nako 💪🏻\n",
      "\n",
      "16)ingon sa technician ipapahuway sa daw ako laptop maong ga biro. Yawa, pati laptop ge kapoy nas online class HAHAHAHAHA\n",
      "\n",
      "17)@_hansjob_ Tama very sturdy. 10/10 would recommend for online class\n",
      "\n"
     ]
    }
   ],
   "source": [
    "# Print all of the positive tweets\n",
    "\n",
    "j=1\n",
    "sortedDF = df.sort_values(by=['Polarity'])\n",
    "for i in range(0, sortedDF.shape[0]):\n",
    "    if sortedDF['Analysis'][i]=='Positive':\n",
    "            print(str(j) + ')' +sortedDF['Tweets'][i])\n",
    "            print()\n",
    "            j+=1\n",
    "        \n",
    "    \n"
   ]
  },
  {
   "cell_type": "code",
   "execution_count": 39,
   "id": "13bf5074",
   "metadata": {
    "scrolled": true
   },
   "outputs": [
    {
     "name": "stdout",
     "output_type": "stream",
     "text": [
      "1)kung kailan oras ng online class tsaka nagloloko internet\n",
      "\n",
      "2)Ang hirap 😓 hind ko kaya mag online class ng 3am to 5:30am huhu\n",
      "\n",
      "3)online class with vmin💜 \n",
      "\n",
      "4)SABAW NANAMAN SA ONLINE CLASS SA MALAMANG\n",
      "\n",
      "5)manifesting money pambili ng gadget for online class😭🤞\n",
      "\n",
      "6)Mamaya online class naman ni jiro 😭 sana di magloko\n",
      "\n",
      "7)istg!!! face to face classes is way better than online class shit.\n",
      "\n",
      "8)since the online class started feeling ko mataas na grade ko😭 \n",
      "\n",
      "9) Di na nga makapag-online class nang maayos sa sobrang daming paperworks 🥲\n",
      "\n",
      "10)Atm: nanggugulo sa online class ng bunso namin 😂\n",
      "\n",
      "11)Last one class tomorrow. Mapapahinga na kakatalak ko online. Hahaha\n",
      "\n",
      "12)Pakatapos mag grind online class naman\n",
      "\n",
      "13)Online class 😂Onlineclasses DogsofTwittter americanbully dogs \n",
      "\n",
      "14)Putangina normal bang umiyak habang nasa online class\n",
      "\n",
      "15)Yung late ka na nakapasok sa Meet ng Online Class mo. Tapos ito kaagad narinig mo.\n",
      "\n",
      "\"That's all for today, thanks class have a nice day\"\n",
      "\n",
      "16)Online class with the 5 sections\n",
      "\n",
      "17)Ang aga ko natulog pero ito bubungad sakin. Wait ka lang teh. Tapusin ko agad online class. \n",
      "\n",
      "18)nothing online class today but have a duty on work ssssshemz\n",
      "\n",
      "19)KUMAKAIN KAMING PAMILYA HABANG NAKIKINIG NG ONLINE CLASS KO 😂\n",
      "\n",
      "20)Nag multi task na kami matapos lang activities 🙂\n",
      "Online class + activities 🙃\n",
      "\n",
      "21)ug dili palang jud online class ron wa jud unta kos plano mag shift ug course\n",
      "\n",
      "22)Hirap ng online class pala. Daming gc 😂 hirap pag di kayo blockmates 😂\n",
      "\n",
      "23)Paano na lang kaming Batch K12?\n",
      "1. Inabutan ng online class.\n",
      "2. Iba ang Accountancy Curriculum\n",
      "\n",
      "CPALE is not a joke.\n",
      "\n",
      "24)hirap na ako mag function ito na ba yung resulta ng online class sakin🥲🥲🥲🥲🥲🥲\n",
      "\n",
      "25)katulog man kaha kos Online class ganina nmal..🤦🤣\n",
      "\n",
      "26)Best in weak jud sa signaaal ang city of Brunao oyyyy. Wala ako na stress sa online class sa signaaal juddd!!!! Im heading to gensan na naman for a stable internet. Sayang lang ginabayad sa waypay\n",
      "\n",
      "27)Bskag malouy ko nmu maglagot na noon ko nmu. Ang ako bskag ga klase ko mag luto ug maghugas baya jd ko. Inig mag Online class ka dli baya taka disturbohon pasagdan ra baya taka mag higdaay ka dra bskag ga klase ka. Inig mangutana ko sa imuha mag pa bungol² rka. Paningkamot uyy\n",
      "\n",
      "28)How painful it is to walk and walk and walk just to have a signal for the online class : ' &lt;. I am struggling...\n",
      "\n",
      "29)Late ako sa Online Class 😅\n",
      "\n",
      "30)tanga wala nang pasok sa online class ambobobo ng mga parent na to kanina pa nga sinabi ..... kahapon pa nga eh , walang tigil kasi kakatunog messenger ko kapag ako nainis uninstall ko ulit to\n",
      "\n",
      "31)Lutang sa online class mamaya huhu\n",
      "\n",
      "32)I have come to realization na i've never been so busy this entire \"online class\". Siguro may mga times na marami lng akong ginagawa dahil mas pinipili kong magprocastinate kaysa gawin ang dapat gawin. Pero unlike nung high school days or even my first year sa pmms...wala yun lng\n",
      "\n",
      "33)I will not be able to hear you sing your favorite songs next door and repeatedly call me to take care of you while you attend your online class as I do my work.\n",
      "\n",
      "34)Online class habang nakain sa  hahahahhaa\n",
      "\n",
      "35) do yoi have a online class or modular class? it seems like u online in twitter and do youtube record so u dont have a online? \n",
      "youarelucky\n",
      "\n",
      "36)reading manga while online class '-'\n",
      "\n",
      "37)Online class is really draining. Neverending activities, overloaded schoolworks, short deadlines, unstable network, lack of materials, can't cope up with piles of works, axiety, anxiousness and loss of interest. Can I survive these? It's all from 1st quarter. What abt 3 more?\n",
      "\n",
      "38) Its terrorism...\n",
      "Anakbayan is a legal front of NPA....\n",
      "\n",
      "They hate online class because they can recruit anyone no longer\n",
      "\n",
      "39)kung hindi ko lang talaga need tong acc ko for my online class nag deact na ako shuta\n",
      "\n",
      "40)Doing activities while tan online class na und. to self 🙃\n",
      "\n",
      "41)Nakaka antok pala tlga ang online class\n",
      "\n",
      "42)Pa trade na kayo at sponsor please just need to help a friend who need a new phone for her online class , I promise to her that I sent her small amount every day til she reach the amount to buy a phone 🙏🙏🙏🙏🙏\n",
      "\n",
      "43)Ipad Air 4 cutie 🙏🏻🥺 para makapag online class na ako kahit nasa byahe or labas hihi\n",
      "\n",
      "44)Hindi lang 'to online class kundi araw-araw recitation. 😆 Sino ba naman kami? Kami lang naman lagi may exam after 2 weeks. Kaya quizzes, assignments and all sabay-sabay na. 😴\n",
      "\n",
      "45)Online class pa nga kahit kulang sa tulog\n",
      "\n",
      "46)hindi naman ni online class man essay contest naman ni😭😭😌\n",
      "\n",
      "47)_Cares Good morning. I have again an LOS issue. I did all the necessary troubleshooting but to no avail. Sent you a DM.\n",
      "Location: Mambog Uno, Bacoor, Cavite\n",
      "\n",
      "Please help. 2 of us are working from home and we have 2 students doing online class\n",
      "Thank you.\n",
      "\n",
      "48)pinipilit ko naman maging kalmado pag nagtuturo ng online class eh 🤣 kaso di mo talaga maiwasan ang sumigaw 🤣 para mafocus 🤣\n",
      "\n",
      "49)Thinking of starting my own space para magrant pero hwag na kasi mukhang wala namang makikinig. Sa online class nga, ilang beses ko nang tinanong if may question ba sila sa slides, or pls read the slide, wala pa ding response. UWU\n",
      "\n",
      "50)i just wish yung care ng teacher’s ng mga shs ngayon is ganon din yung care samen noong f2f at start ng online class. hindi yung bawal ka umiyak kasi di ka pa tapos sa schoolworks mo &amp; bawal ka magbreakdown kasi “ STEM” pinili mo normal lang daw 💀\n",
      "\n",
      "51)Sumakit ulo ko sa Part of Speech! Ang hirap sumagot sa quiz na di naman nadiscuss! I need a refresher on this. Relate much sa mga students having online class! 😔\n",
      "\n",
      "52)nakakapagod ka online class\n",
      "\n",
      "53)ganito ba talaga kapag online class, naco- confuse na sa mga words hahaahaga\n",
      "\n",
      "54)That's why I hate Online class.. busset!!!\n",
      "\n",
      "55)Wala na talaga akong gana para umattend ng online class mo 😩\n",
      "\n",
      "56)Curious lang po ako. Bakit nung F2F classes eh palaging pre-lab ang discussion bago magsagot ng exercises, which was very effective; tapos ngayong online class, hindi na nga conducive ang self study, eh post-lab discussion palagi? 🥲 \n",
      "\n",
      "57)GaanoKaKamalas Ang active ko magparticipate sa online class eh maling meeting room naman pala yung napasukan ko. Naperfect ko pa yung recitation at quiz. TheMorningRush\n",
      "\n",
      "58)Napaka agang online class 🤦\n",
      "Gantong oras natutulog pako haist. \n",
      "\n",
      "59)di man ako makapag phone upgrade this month ihahabol ko to sa december need ko lang talaga pang online class 🤞🏻🤞🏻\n",
      "\n"
     ]
    }
   ],
   "source": [
    "\n",
    "j=1\n",
    "sortedDF = df.sort_values(by=['Polarity'])\n",
    "for i in range(0, sortedDF.shape[0]):\n",
    "    if sortedDF['Analysis'][i]=='Negative':\n",
    "            print(str(j) + ')' +sortedDF['Tweets'][i])\n",
    "            print()\n",
    "            j+=1\n",
    "            \n"
   ]
  },
  {
   "cell_type": "code",
   "execution_count": 40,
   "id": "3d56e41b",
   "metadata": {},
   "outputs": [
    {
     "data": {
      "image/png": "[encoded data removed]",
      "text/plain": [
       "<Figure size 576x432 with 1 Axes>"
      ]
     },
     "metadata": {},
     "output_type": "display_data"
    }
   ],
   "source": [
    "# Plot the polarity and subjectivity\n",
    "plt.figure(figsize=(8,6))\n",
    "for i in range(0, df.shape[0]):\n",
    "    plt.scatter(df['Polarity'][i], df['Subjectivity'][i], color='Blue')\n",
    "\n",
    "plt.title('Sentiment Analysis')\n",
    "plt.xlabel('Polarity')\n",
    "plt.ylabel('Subjectivity')\n",
    "plt.show()"
   ]
  },
  {
   "cell_type": "code",
   "execution_count": 41,
   "id": "46024444",
   "metadata": {},
   "outputs": [
    {
     "data": {
      "image/png": "[encoded data removed]",
      "text/plain": [
       "<Figure size 432x288 with 1 Axes>"
      ]
     },
     "metadata": {},
     "output_type": "display_data"
    }
   ],
   "source": [
    "df['Analysis'].value_counts()\n",
    "\n",
    "plt.title('Sentiment Analysis')\n",
    "plt.xlabel('Sentiment')\n",
    "plt.ylabel('Counts')\n",
    "df['Analysis'].value_counts().plot(kind='bar')\n",
    "plt.show()"
   ]
  },
  {
   "cell_type": "code",
   "execution_count": null,
   "id": "83e84c90",
   "metadata": {},
   "outputs": [],
   "source": []
  }
 ],
 "metadata": {
  "kernelspec": {
   "display_name": "Python 3",
   "language": "python",
   "name": "python3"
  },
  "language_info": {
   "codemirror_mode": {
    "name": "ipython",
    "version": 3
   },
   "file_extension": ".py",
   "mimetype": "text/x-python",
   "name": "python",
   "nbconvert_exporter": "python",
   "pygments_lexer": "ipython3",
   "version": "3.8.8"
  }
 },
 "nbformat": 4,
 "nbformat_minor": 5
}
