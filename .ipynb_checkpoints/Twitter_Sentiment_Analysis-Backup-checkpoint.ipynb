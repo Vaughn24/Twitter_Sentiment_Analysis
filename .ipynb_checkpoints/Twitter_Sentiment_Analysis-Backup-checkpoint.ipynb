{
 "cells": [
  {
   "cell_type": "code",
   "execution_count": 2,
   "id": "d61d223c",
   "metadata": {},
   "outputs": [],
   "source": [
    "import tweepy\n",
    "from textblob import TextBlob\n",
    "from wordcloud import WordCloud\n",
    "import pandas as pd\n",
    "import numpy as np\n",
    "import re\n",
    "import matplotlib.pyplot as plt\n",
    "import warnings\n",
    "warnings.filterwarnings(\"ignore\")\n",
    "plt.style.use('fivethirtyeight') # Style Sheet"
   ]
  },
  {
   "cell_type": "code",
   "execution_count": 3,
   "id": "ee9f381c",
   "metadata": {},
   "outputs": [],
   "source": [
    "log = pd.read_csv('./Login.csv')"
   ]
  },
  {
   "cell_type": "code",
   "execution_count": 4,
   "id": "fe1ec6ce",
   "metadata": {},
   "outputs": [],
   "source": [
    "# Twitter API credentials\n",
    "\n",
    "consumerKey = log['key'][2]\n",
    "consumerSecret = log['key'][3]\n",
    "accessToken = log['key'][0]\n",
    "accessTokenSecret = log['key'][1]"
   ]
  },
  {
   "cell_type": "code",
   "execution_count": 5,
   "id": "a6a48dd6",
   "metadata": {},
   "outputs": [],
   "source": [
    "# Create the authentication object\n",
    "authenticate = tweepy.OAuthHandler(consumerKey,consumerSecret)\n",
    "\n",
    "# Set the access token and access token secret\n",
    "authenticate.set_access_token(accessToken, accessTokenSecret)\n",
    "\n",
    "# Create the API object while passing in the auth information\n",
    "api = tweepy.API(authenticate, wait_on_rate_limit = True)"
   ]
  },
  {
   "cell_type": "code",
   "execution_count": 6,
   "id": "bb70dd66",
   "metadata": {},
   "outputs": [],
   "source": [
    "places = api.geo_search(query=\"PHI\",granularity=\"country\")\n",
    "place_id = places[0].id\n",
    "#tweets = api.search(q=\"place:%s\" % place_id)"
   ]
  },
  {
   "cell_type": "code",
   "execution_count": 7,
   "id": "44b4d19e",
   "metadata": {},
   "outputs": [
    {
     "data": {
      "text/plain": [
       "'cursor = tweepy.Cursor(api.search, q=\"online class\"+\" place:{}\".format(place_id), \\n                       tweet_mode=\"extended\", result_type=\"mixed\").items(30)\\n\\nfor i in cursor:\\n    print(i.full_text)'"
      ]
     },
     "execution_count": 7,
     "metadata": {},
     "output_type": "execute_result"
    }
   ],
   "source": [
    "\"\"\"cursor = tweepy.Cursor(api.search, q=\"online class\"+\" place:{}\".format(place_id), \n",
    "                       tweet_mode=\"extended\", result_type=\"mixed\").items(30)\n",
    "\n",
    "for i in cursor:\n",
    "    print(i.full_text)\"\"\""
   ]
  },
  {
   "cell_type": "code",
   "execution_count": 8,
   "id": "8d3079be",
   "metadata": {},
   "outputs": [
    {
     "name": "stdout",
     "output_type": "stream",
     "text": [
      "Show the 5 recent tweets: \n",
      "\n",
      "1) Last one class tomorrow. Mapapahinga na kakatalak ko online. Hahaha\n",
      "\n",
      "2) Pakatapos mag grind online class naman\n",
      "\n",
      "3) Online class 😂#Onlineclasses #DogsofTwittter #americanbully #dogs https://t.co/auFSLDdJg9\n",
      "\n",
      "4) Dexter’s online class. 😅\n",
      "#puglove #pugsofinstagram #puglife @ Iligan City https://t.co/ndENgLgE9s\n",
      "\n"
     ]
    }
   ],
   "source": [
    "# Extract tweets from the twitter user\n",
    "\n",
    "posts = api.search(q=\"online class\"+\" place:{}\".format(place_id),count=5,tweet_mode=\"extended\", result_type=\"mixed\")\n",
    "\n",
    "# Print the last 5 tweets from the account\n",
    "\n",
    "print(\"Show the 5 recent tweets: \\n\")\n",
    "i=1\n",
    "for tweet in posts[0:5]:\n",
    "    print(str(i) + ') '+tweet.full_text + '\\n')\n",
    "    i+=1"
   ]
  },
  {
   "cell_type": "code",
   "execution_count": 14,
   "id": "db1f4f08",
   "metadata": {},
   "outputs": [
    {
     "data": {
      "text/html": [
       "<div>\n",
       "<style scoped>\n",
       "    .dataframe tbody tr th:only-of-type {\n",
       "        vertical-align: middle;\n",
       "    }\n",
       "\n",
       "    .dataframe tbody tr th {\n",
       "        vertical-align: top;\n",
       "    }\n",
       "\n",
       "    .dataframe thead th {\n",
       "        text-align: right;\n",
       "    }\n",
       "</style>\n",
       "<table border=\"1\" class=\"dataframe\">\n",
       "  <thead>\n",
       "    <tr style=\"text-align: right;\">\n",
       "      <th></th>\n",
       "      <th>Tweets</th>\n",
       "    </tr>\n",
       "  </thead>\n",
       "  <tbody>\n",
       "    <tr>\n",
       "      <th>0</th>\n",
       "      <td>Last one class tomorrow. Mapapahinga na kakata...</td>\n",
       "    </tr>\n",
       "    <tr>\n",
       "      <th>1</th>\n",
       "      <td>Pakatapos mag grind online class naman</td>\n",
       "    </tr>\n",
       "    <tr>\n",
       "      <th>2</th>\n",
       "      <td>Online class 😂#Onlineclasses #DogsofTwittter #...</td>\n",
       "    </tr>\n",
       "    <tr>\n",
       "      <th>3</th>\n",
       "      <td>Dexter’s online class. 😅\\n#puglove #pugsofinst...</td>\n",
       "    </tr>\n",
       "  </tbody>\n",
       "</table>\n",
       "</div>"
      ],
      "text/plain": [
       "                                              Tweets\n",
       "0  Last one class tomorrow. Mapapahinga na kakata...\n",
       "1             Pakatapos mag grind online class naman\n",
       "2  Online class 😂#Onlineclasses #DogsofTwittter #...\n",
       "3  Dexter’s online class. 😅\\n#puglove #pugsofinst..."
      ]
     },
     "execution_count": 14,
     "metadata": {},
     "output_type": "execute_result"
    }
   ],
   "source": [
    "# Create a DataFrame with a column called Tweets\n",
    "\n",
    "df = pd.DataFrame([tweet.full_text for tweet in posts] , columns=['Tweets'])\n",
    "\n",
    "# Show the first 5 rows of data\n",
    "df.head()"
   ]
  },
  {
   "cell_type": "code",
   "execution_count": 15,
   "id": "d2786972",
   "metadata": {},
   "outputs": [],
   "source": [
    "#\n",
    "#df.to_excel('tweet_dataset.xlsx', index=False)"
   ]
  },
  {
   "cell_type": "code",
   "execution_count": null,
   "id": "35c08c97",
   "metadata": {},
   "outputs": [],
   "source": [
    "#Clean the tweets\n",
    "def cleanTxt(text):\n",
    "    text = re.sub(r'@[A-Za-z0-9]+', '', text) #Removed @mentions\n",
    "    text = re.sub(r'#', '', text) #Removing the '#' symbol\n",
    "    text = re.sub(r'RT[\\s]+', '', text) # Removing RT\n",
    "    text = re.sub(r'https?:\\/\\/\\S+', '', text) # Removing hyperlink\n",
    "    \n",
    "    return text\n",
    "\n",
    "# Cleaning the text\n",
    "df['Tweets']=df['Tweets'].apply(cleanTxt)\n",
    "\n"
   ]
  },
  {
   "cell_type": "code",
   "execution_count": null,
   "id": "e9031b77",
   "metadata": {},
   "outputs": [],
   "source": [
    "# Show the cleaned text\n",
    "#pd.set_option('display.max_colwidth', None) #change Display option\n",
    "#pd.reset_option('^display.', silent=True) #Resets all option\n",
    "df.head()"
   ]
  },
  {
   "cell_type": "code",
   "execution_count": null,
   "id": "67823867",
   "metadata": {},
   "outputs": [],
   "source": [
    "\n",
    "text = \"The quick brown fox jumps over the lazy dog.\"\n",
    "# remove words between 1 and 3\n",
    "shortword = re.compile(r'\\W*\\b\\w{1,3}\\b')\n",
    "print(shortword.sub('', text))"
   ]
  },
  {
   "cell_type": "code",
   "execution_count": null,
   "id": "8629d532",
   "metadata": {},
   "outputs": [],
   "source": [
    "# Plot Word Cloud\n",
    "allWords = ' '.join([twts for twts in df['Tweets']])\n",
    "allWords = allWords.lower()\n",
    "\n",
    "#Remove 'online Class'\n",
    "removeWords = \"\"\"online class yung para pero naman araw \n",
    "                hindi tapos kasi talaga shopeeph1010 shopeephbigatenfestival\n",
    "                pang\"\"\"\n",
    "for x in allWords.split():\n",
    "    for i in removeWords.split():\n",
    "        if x == i:\n",
    "            patt = re.compile('(\\s*){}(\\s*)'.format(i))\n",
    "            allWords=patt.sub('\\\\1 \\\\2', allWords)\n",
    "            \n",
    "#patt = re.compile('(\\s*)online class(\\s*)')\n",
    "#allWords=patt.sub('\\\\1 \\\\2', allWords)\n",
    "\n",
    "#Restrict 2 letter word\n",
    "shortword = re.compile(r'\\W*\\b\\w{1,3}\\b')\n",
    "allWords = shortword.sub('', allWords)\n",
    "\n",
    "#wordCloud = WordCloud(width = 500, height =300, random_state = 21, max_font_size = 119).generate(allWords)\n",
    "wordCloud = WordCloud(width = 500, height =300, random_state = 21).generate(allWords)\n",
    "\n",
    "plt.imshow(wordCloud, interpolation='bilinear')\n",
    "plt.axis('off')\n",
    "plt.show()"
   ]
  },
  {
   "cell_type": "code",
   "execution_count": null,
   "id": "0f84bdec",
   "metadata": {},
   "outputs": [],
   "source": [
    "# Create function to get the subjectivity\n",
    "\n",
    "def getSubjectivity(text):\n",
    "    return round((TextBlob(text).sentiment.subjectivity),3)\n",
    "\n",
    "# Create a function to get the polarity\n",
    "def getPolarity(text):\n",
    "    return round((TextBlob(text).sentiment.polarity),3)\n",
    "\n",
    "# Create two new columns\n",
    "df['Subjectivity'] = df['Tweets'].apply(getSubjectivity)\n",
    "df['Polarity'] = df['Tweets'].apply(getPolarity)\n",
    "\n",
    "\n",
    "df"
   ]
  },
  {
   "cell_type": "code",
   "execution_count": null,
   "id": "835ea516",
   "metadata": {},
   "outputs": [],
   "source": [
    "# Create a function to compute the negative, neutral and positive analysis\n",
    "def getAnalysis(score):\n",
    "    if score < 0:\n",
    "        return 'Negative'\n",
    "    elif score == 0:\n",
    "        return 'Neutral'\n",
    "    else:\n",
    "        return 'Positive'\n",
    "    \n",
    "df['Analysis'] = df['Polarity'].apply(getAnalysis)\n",
    "\n",
    "\n",
    "################## ADDING POSITIVE AND NEGATIVE WORDS ####################\n",
    "\n",
    "negative_words = \"\"\" \"\"\"\n",
    "negative_two_words = \"\"\" \"\"\"\n",
    "positive_words = \"\"\" \"\"\"\n",
    "\n",
    "\n",
    "\n",
    "df['Polarity'][1] += 0\n",
    "\n",
    "string_tweet = df['Tweets'][0]\n",
    "\n",
    "\n",
    "for every_tweet in df['Tweets']:\n",
    "    print(every_tweet)\n"
   ]
  },
  {
   "cell_type": "code",
   "execution_count": null,
   "id": "54782f3f",
   "metadata": {},
   "outputs": [],
   "source": [
    "# Print all of the positive tweets\n",
    "\n",
    "j=1\n",
    "sortedDF = df.sort_values(by=['Polarity'])\n",
    "for i in range(0, sortedDF.shape[0]):\n",
    "    if sortedDF['Analysis'][i]=='Positive':\n",
    "            print(str(j) + ')' +sortedDF['Tweets'][i])\n",
    "            print()\n",
    "            j+=1\n",
    "        \n",
    "    \n"
   ]
  },
  {
   "cell_type": "code",
   "execution_count": null,
   "id": "a9e15e8a",
   "metadata": {},
   "outputs": [],
   "source": [
    "# Print all of the negative tweets\n",
    "\n",
    "j=1\n",
    "sortedDF = df.sort_values(by=['Polarity'])\n",
    "for i in range(0, sortedDF.shape[0]):\n",
    "    if sortedDF['Analysis'][i]=='Negative':\n",
    "            print(str(j) + ')' +sortedDF['Tweets'][i])\n",
    "            print()\n",
    "            j+=1"
   ]
  },
  {
   "cell_type": "code",
   "execution_count": null,
   "id": "cbf0b2c2",
   "metadata": {},
   "outputs": [],
   "source": [
    "# Plot the polarity and subjectivity\n",
    "plt.figure(figsize=(8,6))\n",
    "for i in range(0, df.shape[0]):\n",
    "    plt.scatter(df['Polarity'][i], df['Subjectivity'][i], color='Blue')\n",
    "\n",
    "plt.title('Sentiment Analysis')\n",
    "plt.xlabel('Polarity')\n",
    "plt.ylabel('Subjectivity')\n",
    "plt.show()"
   ]
  },
  {
   "cell_type": "code",
   "execution_count": null,
   "id": "bfc8a726",
   "metadata": {},
   "outputs": [],
   "source": [
    "df['Analysis'].value_counts()\n",
    "\n",
    "plt.title('Sentiment Analysis')\n",
    "plt.xlabel('Sentiment')\n",
    "plt.ylabel('Counts')\n",
    "df['Analysis'].value_counts().plot(kind='bar')\n",
    "plt.show()"
   ]
  }
 ],
 "metadata": {
  "kernelspec": {
   "display_name": "Python 3",
   "language": "python",
   "name": "python3"
  },
  "language_info": {
   "codemirror_mode": {
    "name": "ipython",
    "version": 3
   },
   "file_extension": ".py",
   "mimetype": "text/x-python",
   "name": "python",
   "nbconvert_exporter": "python",
   "pygments_lexer": "ipython3",
   "version": "3.8.8"
  }
 },
 "nbformat": 4,
 "nbformat_minor": 5
}
